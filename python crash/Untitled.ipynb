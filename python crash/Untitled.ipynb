{
 "cells": [
  {
   "cell_type": "code",
   "execution_count": 1,
   "id": "47c66adc",
   "metadata": {},
   "outputs": [
    {
     "name": "stdout",
     "output_type": "stream",
     "text": [
      "Atta\n"
     ]
    }
   ],
   "source": [
    "print(\"Atta\")"
   ]
  },
  {
   "cell_type": "code",
   "execution_count": 2,
   "id": "388a2681",
   "metadata": {},
   "outputs": [
    {
     "name": "stdout",
     "output_type": "stream",
     "text": [
      "Atta's Laptop\n"
     ]
    }
   ],
   "source": [
    "print(\"Atta's Laptop\")"
   ]
  },
  {
   "cell_type": "code",
   "execution_count": 4,
   "id": "05d50b73",
   "metadata": {},
   "outputs": [
    {
     "name": "stdout",
     "output_type": "stream",
     "text": [
      "Atta\"s Laptop\n"
     ]
    }
   ],
   "source": [
    "print('Atta\"s Laptop')"
   ]
  },
  {
   "cell_type": "code",
   "execution_count": 5,
   "id": "7d106f37",
   "metadata": {},
   "outputs": [],
   "source": [
    "atta = \"x\""
   ]
  },
  {
   "cell_type": "code",
   "execution_count": 6,
   "id": "a4302a5e",
   "metadata": {},
   "outputs": [
    {
     "data": {
      "text/plain": [
       "'x'"
      ]
     },
     "execution_count": 6,
     "metadata": {},
     "output_type": "execute_result"
    }
   ],
   "source": [
    "atta"
   ]
  },
  {
   "cell_type": "code",
   "execution_count": null,
   "id": "b665f2ae",
   "metadata": {},
   "outputs": [],
   "source": []
  }
 ],
 "metadata": {
  "kernelspec": {
   "display_name": "Python 3",
   "language": "python",
   "name": "python3"
  },
  "language_info": {
   "codemirror_mode": {
    "name": "ipython",
    "version": 3
   },
   "file_extension": ".py",
   "mimetype": "text/x-python",
   "name": "python",
   "nbconvert_exporter": "python",
   "pygments_lexer": "ipython3",
   "version": "3.8.8"
  }
 },
 "nbformat": 4,
 "nbformat_minor": 5
}
