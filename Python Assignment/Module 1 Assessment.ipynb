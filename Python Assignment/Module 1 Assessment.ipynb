{
 "cells": [
  {
   "cell_type": "markdown",
   "metadata": {},
   "source": [
    "# Module 1 Assessment\n"
   ]
  },
  {
   "cell_type": "code",
   "execution_count": null,
   "metadata": {},
   "outputs": [],
   "source": [
    "#Write a Python script that outputs \"Automating with Python is fun!\" to the screen.\n",
    "\n"
   ]
  },
  {
   "cell_type": "code",
   "execution_count": null,
   "metadata": {},
   "outputs": [],
   "source": [
    "#Fill in the blanks so that the code prints \"Yellow is the color of sunshine\".\n",
    "\n",
    "color = \"\"\n",
    "thing = \"\"\n",
    "print(color + \" is the color of \" + thing)"
   ]
  },
  {
   "cell_type": "code",
   "execution_count": null,
   "metadata": {},
   "outputs": [],
   "source": [
    "#Keeping in mind there are 86400 seconds per day, write a program that calculates how many seconds there are in a week, if a week is 7 days. Print the result on the screen.\n",
    "\n",
    "#Note: Your result should be in the format of just a number, not a sentence.\n",
    "\n",
    "secInMin = \n",
    "secInHour = \n",
    "secInDay = \n",
    "secInWeek = \n",
    "print(secInWeek)"
   ]
  },
  {
   "cell_type": "code",
   "execution_count": null,
   "metadata": {},
   "outputs": [],
   "source": [
    "#Use Python to calculate how many different passwords can be formed with 6 lower case English letters. \n",
    "#For a 1 letter password, there would be 26 possibilities. For a 2 letter password, each letter is independent \n",
    "#of the other, so there would be 26 times 26 possibilities. Using this information, print the amount of possible \n",
    "#passwords that can be formed with 6 letters.\n",
    "\n",
    "\n",
    "\n",
    "print()"
   ]
  },
  {
   "cell_type": "code",
   "execution_count": null,
   "metadata": {},
   "outputs": [],
   "source": [
    "#Most hard drives are divided into sectors of 512 bytes each. Our disk has a size of 16 GB. Fill in the blank \n",
    "#to calculate how many sectors the disk has.\n",
    "\n",
    "#Note: Your result should be in the format of just a number, not a sentence.\n",
    "\n",
    "disk_size = 16*1024*1024*1024\n",
    "sector_size = \n",
    "sector_amount =\n",
    "\n",
    "print(sector_amount)"
   ]
  },
  {
   "cell_type": "code",
   "execution_count": null,
   "metadata": {},
   "outputs": [],
   "source": []
  }
 ],
 "metadata": {
  "kernelspec": {
   "display_name": "Python 3",
   "language": "python",
   "name": "python3"
  },
  "language_info": {
   "codemirror_mode": {
    "name": "ipython",
    "version": 3
   },
   "file_extension": ".py",
   "mimetype": "text/x-python",
   "name": "python",
   "nbconvert_exporter": "python",
   "pygments_lexer": "ipython3",
   "version": "3.8.8"
  }
 },
 "nbformat": 4,
 "nbformat_minor": 2
}
